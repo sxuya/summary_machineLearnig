{
 "cells": [
  {
   "cell_type": "markdown",
   "metadata": {},
   "source": [
    "伪代码：\n",
    "\n",
    "- GIVEN traning    {(x<sub>i</sub>, y<sub>i</sub>)}\n",
    "\n",
    "    y<sub>i</sub>∈{-1, +1}\n",
    "    \n",
    "    \n",
    "- FOR t = 1 to T\n",
    "\n",
    "    - CONSTRUCT ID<sub>t</sub>\n",
    "    - find weak classifier h<sub>t</sub>(x)\n",
    "    \n",
    "    with small error\n",
    "    \n",
    "    $$ε_t = P_{ID_t}[h_t(x_i)≠y_i]$$\n",
    "    \n",
    "    - output H<sub>fianl</sub>\n",
    "    \n",
    "---\n",
    "\n",
    "其中\n",
    "\n",
    "初始 ID<sub>1</sub>(i) = 1/n\n",
    "\n",
    "$$ID_{t+1}(i) = {ID_t(i)·e^{-α_ty_ih_t(x_i)}\\over Z_t}$$\n",
    "\n",
    "where\n",
    "\n",
    "$$α_t = {1\\over2}ln{1-ε_t\\overε_t}$$"
   ]
  },
  {
   "cell_type": "code",
   "execution_count": null,
   "metadata": {},
   "outputs": [],
   "source": []
  }
 ],
 "metadata": {
  "kernelspec": {
   "display_name": "Python 2",
   "language": "python",
   "name": "python2"
  },
  "language_info": {
   "codemirror_mode": {
    "name": "ipython",
    "version": 2
   },
   "file_extension": ".py",
   "mimetype": "text/x-python",
   "name": "python",
   "nbconvert_exporter": "python",
   "pygments_lexer": "ipython2",
   "version": "2.7.14"
  }
 },
 "nbformat": 4,
 "nbformat_minor": 2
}
